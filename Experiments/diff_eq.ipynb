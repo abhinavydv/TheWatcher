{
 "cells": [
  {
   "cell_type": "code",
   "execution_count": 2,
   "metadata": {},
   "outputs": [],
   "source": [
    "from mss import mss\n",
    "from PIL import Image, ImageChops\n",
    "import numpy as np\n",
    "from time import sleep"
   ]
  },
  {
   "cell_type": "code",
   "execution_count": 8,
   "metadata": {},
   "outputs": [],
   "source": [
    "m = mss()\n",
    "s1 = m.grab(m.monitors[0])\n",
    "sleep(4)\n",
    "s2 = m.grab(m.monitors[0])\n",
    "im1 = Image.frombytes('RGB', s1.size, s1.bgra, 'raw', 'BGRX')\n",
    "im2 = Image.frombytes('RGB', s2.size, s2.bgra, 'raw', 'BGRX')\n",
    "diff1 = np.array(ImageChops.subtract_modulo(im1, im2))\n",
    "diff2 = np.array(im1) - np.array(im2)"
   ]
  },
  {
   "cell_type": "code",
   "execution_count": 9,
   "metadata": {},
   "outputs": [
    {
     "name": "stdout",
     "output_type": "stream",
     "text": [
      "6912000 6912000\n"
     ]
    }
   ],
   "source": [
    "with open(\"diff.txt\", \"w\") as f:\n",
    "    f.write(str(np.ndarray.tolist(diff2 == diff1)))\n",
    "for i, j in zip(diff1, diff2):\n",
    "    for i1, j1 in zip(i, j):\n",
    "        for i2, j2 in zip(i1, j1):\n",
    "            if i2 != j2:\n",
    "                print(i2, j2)\n",
    "print(np.count_nonzero(diff2 == diff1) , np.size(diff2))\n"
   ]
  },
  {
   "cell_type": "code",
   "execution_count": 20,
   "metadata": {},
   "outputs": [
    {
     "data": {
      "text/plain": [
       "12"
      ]
     },
     "execution_count": 20,
     "metadata": {},
     "output_type": "execute_result"
    }
   ],
   "source": [
    "ImageChops.subtract_modulo()"
   ]
  }
 ],
 "metadata": {
  "kernelspec": {
   "display_name": ".watchenv3.10",
   "language": "python",
   "name": "python3"
  },
  "language_info": {
   "codemirror_mode": {
    "name": "ipython",
    "version": 3
   },
   "file_extension": ".py",
   "mimetype": "text/x-python",
   "name": "python",
   "nbconvert_exporter": "python",
   "pygments_lexer": "ipython3",
   "version": "3.10.6"
  },
  "orig_nbformat": 4,
  "vscode": {
   "interpreter": {
    "hash": "21bd80c8892db3a613c0459ea4968b083bb55933881e52425edb3e2479551ef1"
   }
  }
 },
 "nbformat": 4,
 "nbformat_minor": 2
}
