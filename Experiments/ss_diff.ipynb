{
 "cells": [
  {
   "cell_type": "code",
   "execution_count": 2,
   "metadata": {},
   "outputs": [],
   "source": [
    "import mss\n",
    "import numpy as np\n",
    "from PIL import Image\n",
    "from time import sleep\n",
    "from io import BytesIO"
   ]
  },
  {
   "cell_type": "code",
   "execution_count": 9,
   "metadata": {},
   "outputs": [
    {
     "data": {
      "text/plain": [
       "<ScreenShot pos=0,0 size=1920x1200>"
      ]
     },
     "execution_count": 9,
     "metadata": {},
     "output_type": "execute_result"
    }
   ],
   "source": [
    "m=mss.mss()\n",
    "m.grab(m.monitors[1])"
   ]
  },
  {
   "cell_type": "code",
   "execution_count": 14,
   "metadata": {},
   "outputs": [],
   "source": [
    "last = None\n",
    "last2 = None\n",
    "for i in range(10):\n",
    "    img = m.grab(m.monitors[1])\n",
    "    img = Image.frombytes(\"RGB\", img.size, img.bgra, \"raw\", \"BGRX\")\n",
    "    img = np.array(img)\n",
    "    if last is not None:\n",
    "        diff = last - img\n",
    "    else:\n",
    "        diff = img\n",
    "    last = img\n",
    "    bio = BytesIO(b\"\")\n",
    "    Image.fromarray(diff).save(bio, format=\"PNG\")\n",
    "    Image.fromarray(diff).save(\"ss_diff_%d.png\" % i)\n",
    "    Image.fromarray(diff).save(\"ss_diff_%d.jpg\" % i)\n",
    "    Image.fromarray(img).save(\"img_%d.png\" % i)\n",
    "\n",
    "    diff2 = Image.open(bio)\n",
    "    diff2 = np.array(diff2)\n",
    "    if last2 is not None:\n",
    "        img2 = last2 - diff2\n",
    "    else:\n",
    "        img2 = diff2\n",
    "    last2 = img2\n",
    "    Image.fromarray(img2).save(\"ss_%d.png\" % i)"
   ]
  },
  {
   "cell_type": "code",
   "execution_count": 3,
   "metadata": {},
   "outputs": [],
   "source": [
    "m=mss.mss()"
   ]
  },
  {
   "cell_type": "code",
   "execution_count": 4,
   "metadata": {},
   "outputs": [],
   "source": [
    "im = m.grab(m.monitors[0])"
   ]
  },
  {
   "cell_type": "code",
   "execution_count": 5,
   "metadata": {},
   "outputs": [
    {
     "data": {
      "text/plain": [
       "9216000"
      ]
     },
     "execution_count": 5,
     "metadata": {},
     "output_type": "execute_result"
    }
   ],
   "source": [
    "len(im.bgra)"
   ]
  },
  {
   "cell_type": "code",
   "execution_count": 6,
   "metadata": {},
   "outputs": [],
   "source": [
    "img = Image.frombytes(\"RGB\", im.size, im.bgra, \"raw\", \"BGRX\")"
   ]
  },
  {
   "cell_type": "code",
   "execution_count": 7,
   "metadata": {},
   "outputs": [
    {
     "data": {
      "text/plain": [
       "266210"
      ]
     },
     "execution_count": 7,
     "metadata": {},
     "output_type": "execute_result"
    }
   ],
   "source": [
    "b = BytesIO(b\"\")\n",
    "img.save(b, format=\"PNG\")\n",
    "len(b.getvalue())"
   ]
  },
  {
   "cell_type": "code",
   "execution_count": 8,
   "metadata": {},
   "outputs": [
    {
     "data": {
      "text/plain": [
       "(1920, 1200)"
      ]
     },
     "execution_count": 8,
     "metadata": {},
     "output_type": "execute_result"
    }
   ],
   "source": [
    "img.size"
   ]
  }
 ],
 "metadata": {
  "kernelspec": {
   "display_name": ".watchenv3.10",
   "language": "python",
   "name": "python3"
  },
  "language_info": {
   "codemirror_mode": {
    "name": "ipython",
    "version": 3
   },
   "file_extension": ".py",
   "mimetype": "text/x-python",
   "name": "python",
   "nbconvert_exporter": "python",
   "pygments_lexer": "ipython3",
   "version": "3.10.6 (main, Nov 14 2022, 16:10:14) [GCC 11.3.0]"
  },
  "orig_nbformat": 4,
  "vscode": {
   "interpreter": {
    "hash": "21bd80c8892db3a613c0459ea4968b083bb55933881e52425edb3e2479551ef1"
   }
  }
 },
 "nbformat": 4,
 "nbformat_minor": 2
}
