{
 "cells": [
  {
   "cell_type": "code",
   "execution_count": 3,
   "metadata": {},
   "outputs": [],
   "source": [
    "import pickle\n",
    "from pynput.keyboard import Key, KeyCode\n",
    "from io import BytesIO"
   ]
  },
  {
   "cell_type": "code",
   "execution_count": 9,
   "metadata": {},
   "outputs": [
    {
     "name": "stdout",
     "output_type": "stream",
     "text": [
      "132\n"
     ]
    }
   ],
   "source": [
    "bio = BytesIO(b\"\")\n",
    "pickle.dump(Key.ctrl_l, bio)\n",
    "print(len(bio.getvalue()))"
   ]
  },
  {
   "cell_type": "code",
   "execution_count": 10,
   "metadata": {},
   "outputs": [
    {
     "name": "stdout",
     "output_type": "stream",
     "text": [
      "48\n"
     ]
    }
   ],
   "source": [
    "bio = BytesIO(b\"\")\n",
    "pickle.dump(KeyCode, bio)\n",
    "print(len(bio.getvalue()))"
   ]
  }
 ],
 "metadata": {
  "kernelspec": {
   "display_name": ".watchenv3.10",
   "language": "python",
   "name": "python3"
  },
  "language_info": {
   "codemirror_mode": {
    "name": "ipython",
    "version": 3
   },
   "file_extension": ".py",
   "mimetype": "text/x-python",
   "name": "python",
   "nbconvert_exporter": "python",
   "pygments_lexer": "ipython3",
   "version": "3.10.6"
  },
  "orig_nbformat": 4,
  "vscode": {
   "interpreter": {
    "hash": "21bd80c8892db3a613c0459ea4968b083bb55933881e52425edb3e2479551ef1"
   }
  }
 },
 "nbformat": 4,
 "nbformat_minor": 2
}
